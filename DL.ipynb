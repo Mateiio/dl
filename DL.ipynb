{
 "cells": [
  {
   "cell_type": "code",
   "execution_count": 1,
   "id": "08f4b27f-f523-49b9-a93a-881d0e7ca0e8",
   "metadata": {},
   "outputs": [],
   "source": [
    "%load_ext autoreload"
   ]
  },
  {
   "cell_type": "code",
   "execution_count": 2,
   "id": "8e2ccad1-d496-4fc0-b087-1847abd42f5c",
   "metadata": {},
   "outputs": [
    {
     "name": "stdout",
     "output_type": "stream",
     "text": [
      "/workspace/DeepLearning/ForRepo\n",
      "ls: cannot access './../../Data/neural-networks-and-deep-learning-master/neural-networks-and-deep-learning-master/data/mnist.pkl.gz': No such file or directory\n"
     ]
    }
   ],
   "source": [
    "!pwd\n",
    "!ls -la ./../../Data/neural-networks-and-deep-learning-master/neural-networks-and-deep-learning-master/data/mnist.pkl.gz"
   ]
  },
  {
   "cell_type": "code",
   "execution_count": 3,
   "id": "6dab3e5f-4e17-4ce7-962b-f5b08f90e31d",
   "metadata": {},
   "outputs": [],
   "source": [
    "import pickle\n",
    "import src.utils.mnist_loader as mnist_loader"
   ]
  },
  {
   "cell_type": "code",
   "execution_count": null,
   "id": "43e6dba8-a999-4404-a3b9-2b19fab28bbf",
   "metadata": {},
   "outputs": [],
   "source": []
  },
  {
   "cell_type": "code",
   "execution_count": null,
   "id": "7c2f12d8-9bf0-46c2-94d3-0aa98ed8596d",
   "metadata": {},
   "outputs": [],
   "source": []
  },
  {
   "cell_type": "code",
   "execution_count": null,
   "id": "d515e0c1-784f-4bf1-9346-baff42dd695a",
   "metadata": {},
   "outputs": [],
   "source": []
  },
  {
   "cell_type": "code",
   "execution_count": 4,
   "id": "226234ff-c7f7-41ce-9f45-67102b7e35b9",
   "metadata": {},
   "outputs": [
    {
     "ename": "UnicodeDecodeError",
     "evalue": "'ascii' codec can't decode byte 0x90 in position 614: ordinal not in range(128)",
     "output_type": "error",
     "traceback": [
      "\u001b[0;31m---------------------------------------------------------------------------\u001b[0m",
      "\u001b[0;31mUnicodeDecodeError\u001b[0m                        Traceback (most recent call last)",
      "Cell \u001b[0;32mIn[4], line 1\u001b[0m\n\u001b[0;32m----> 1\u001b[0m training_data, validation_data, test_data \u001b[38;5;241m=\u001b[39m \u001b[43mmnist_loader\u001b[49m\u001b[38;5;241;43m.\u001b[39;49m\u001b[43mload_data_wrapper\u001b[49m\u001b[43m(\u001b[49m\u001b[43m)\u001b[49m\n",
      "File \u001b[0;32m/workspace/DeepLearning/ForRepo/src/utils/mnist_loader.py:72\u001b[0m, in \u001b[0;36mload_data_wrapper\u001b[0;34m()\u001b[0m\n\u001b[1;32m     51\u001b[0m \u001b[38;5;28;01mdef\u001b[39;00m \u001b[38;5;21mload_data_wrapper\u001b[39m():\n\u001b[1;32m     52\u001b[0m \u001b[38;5;250m    \u001b[39m\u001b[38;5;124;03m\"\"\"Return a tuple containing ``(training_data, validation_data,\u001b[39;00m\n\u001b[1;32m     53\u001b[0m \u001b[38;5;124;03m    test_data)``. Based on ``load_data``, but the format is more\u001b[39;00m\n\u001b[1;32m     54\u001b[0m \u001b[38;5;124;03m    convenient for use in our implementation of neural networks.\u001b[39;00m\n\u001b[0;32m   (...)\u001b[0m\n\u001b[1;32m     70\u001b[0m \u001b[38;5;124;03m    turn out to be the most convenient for use in our neural network\u001b[39;00m\n\u001b[1;32m     71\u001b[0m \u001b[38;5;124;03m    code.\"\"\"\u001b[39;00m\n\u001b[0;32m---> 72\u001b[0m     tr_d, va_d, te_d \u001b[38;5;241m=\u001b[39m \u001b[43mload_data\u001b[49m\u001b[43m(\u001b[49m\u001b[43m)\u001b[49m\n\u001b[1;32m     73\u001b[0m     training_inputs \u001b[38;5;241m=\u001b[39m [np\u001b[38;5;241m.\u001b[39mreshape(x, (\u001b[38;5;241m784\u001b[39m, \u001b[38;5;241m1\u001b[39m)) \u001b[38;5;28;01mfor\u001b[39;00m x \u001b[38;5;129;01min\u001b[39;00m tr_d[\u001b[38;5;241m0\u001b[39m]]\n\u001b[1;32m     74\u001b[0m     training_results \u001b[38;5;241m=\u001b[39m [vectorized_result(y) \u001b[38;5;28;01mfor\u001b[39;00m y \u001b[38;5;129;01min\u001b[39;00m tr_d[\u001b[38;5;241m1\u001b[39m]]\n",
      "File \u001b[0;32m/workspace/DeepLearning/ForRepo/src/utils/mnist_loader.py:47\u001b[0m, in \u001b[0;36mload_data\u001b[0;34m()\u001b[0m\n\u001b[1;32m     42\u001b[0m \u001b[38;5;66;03m# f = gzip.open('../data/mnist.pkl.gz', 'rb')\u001b[39;00m\n\u001b[1;32m     43\u001b[0m \u001b[38;5;66;03m# f = gzip.open('./../../Data/neural-networks-and-deep-learning-master/neural-networks-and-deep-learning-master/data/mnist.pkl.gz', 'rb')\u001b[39;00m\n\u001b[1;32m     44\u001b[0m \u001b[38;5;66;03m# training_data, validation_data, test_data = cPickle.load(f)\u001b[39;00m\n\u001b[1;32m     45\u001b[0m \u001b[38;5;66;03m# f.close()\u001b[39;00m\n\u001b[1;32m     46\u001b[0m \u001b[38;5;28;01mwith\u001b[39;00m \u001b[38;5;28mopen\u001b[39m(\u001b[38;5;124m\"\u001b[39m\u001b[38;5;124m./../../Data/neural-networks-and-deep-learning-master/neural-networks-and-deep-learning-master/data/mnist.pkl\u001b[39m\u001b[38;5;124m\"\u001b[39m, \u001b[38;5;124m'\u001b[39m\u001b[38;5;124mrb\u001b[39m\u001b[38;5;124m'\u001b[39m) \u001b[38;5;28;01mas\u001b[39;00m file:\n\u001b[0;32m---> 47\u001b[0m     training_data, validation_data, test_data \u001b[38;5;241m=\u001b[39m \u001b[43mpickle\u001b[49m\u001b[38;5;241;43m.\u001b[39;49m\u001b[43mload\u001b[49m\u001b[43m(\u001b[49m\u001b[43mfile\u001b[49m\u001b[43m)\u001b[49m\n\u001b[1;32m     49\u001b[0m \u001b[38;5;28;01mreturn\u001b[39;00m (training_data, validation_data, test_data)\n",
      "\u001b[0;31mUnicodeDecodeError\u001b[0m: 'ascii' codec can't decode byte 0x90 in position 614: ordinal not in range(128)"
     ]
    }
   ],
   "source": [
    "training_data, validation_data, test_data = mnist_loader.load_data_wrapper()"
   ]
  },
  {
   "cell_type": "code",
   "execution_count": null,
   "id": "5ca165fe-1380-4322-b31e-a8bdd63e7226",
   "metadata": {},
   "outputs": [],
   "source": []
  },
  {
   "cell_type": "code",
   "execution_count": null,
   "id": "e004955b-264b-480d-9d0a-3e7e983582f1",
   "metadata": {},
   "outputs": [],
   "source": []
  }
 ],
 "metadata": {
  "kernelspec": {
   "display_name": "Python 3 (ipykernel)",
   "language": "python",
   "name": "python3"
  },
  "language_info": {
   "codemirror_mode": {
    "name": "ipython",
    "version": 3
   },
   "file_extension": ".py",
   "mimetype": "text/x-python",
   "name": "python",
   "nbconvert_exporter": "python",
   "pygments_lexer": "ipython3",
   "version": "3.11.9"
  }
 },
 "nbformat": 4,
 "nbformat_minor": 5
}
